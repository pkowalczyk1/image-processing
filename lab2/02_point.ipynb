{
  "cells": [
    {
      "cell_type": "markdown",
      "metadata": {
        "id": "Vy3wKSHZxpiV"
      },
      "source": [
        "# Przekształcenia punktowe"
      ]
    },
    {
      "cell_type": "markdown",
      "metadata": {
        "id": "f5geJf5NxpiW"
      },
      "source": [
        "W trakcie niniejszego ćwiczenia zapoznamy się z podstawowymi operacjami punktowymi (bezkontekstowymi) przeprowadzanymi na obrazach cyfrowych:\n",
        "- typu LUT (operacja jednoargumentowa),\n",
        "- arytmetycznymi (operacje dwuargumentowe): dodawanie, odejmowanie, mnożenie, dzielenie,\n",
        "- logicznymi (operacje jedno i dwuargumentowe): AND, OR, XOR, NOT."
      ]
    },
    {
      "cell_type": "markdown",
      "metadata": {
        "id": "Fz3va88LxpiW"
      },
      "source": [
        "Na początku zaimportuj potrzebne biblioteki."
      ]
    },
    {
      "cell_type": "code",
      "execution_count": null,
      "metadata": {
        "id": "-7rPAvqdxpiX"
      },
      "outputs": [],
      "source": [
        "import cv2\n",
        "import os\n",
        "import requests\n",
        "import numpy as np\n",
        "import matplotlib.pyplot as plt"
      ]
    },
    {
      "cell_type": "markdown",
      "metadata": {
        "id": "X7HjLV1JxpiY"
      },
      "source": [
        "## Operacja LUT\n",
        "\n",
        "**Operacja LUT** polega na przekształcaniu wartości poszczególnych pikseli obrazu przy użyciu z góry przygotowanych tabel przekodowań (tabel korekcji).\n",
        "\n",
        "W przetwarzaniu obrazów najczęściej wykorzystuje się następujące funkcje:\n",
        "- typu kwadratowa, pierwiastek kwadratowy\n",
        "- typu logarytm, odwrócony logarytm\n",
        "- typu wykładnicza,\n",
        "- inne (np. piłokształtna)."
      ]
    },
    {
      "cell_type": "markdown",
      "metadata": {
        "id": "DYtJK6WTxpiZ"
      },
      "source": [
        "W tym zadaniu zostały dla Państwa przygotowane tablice przekodowania.\n",
        "Proszę pobrać je z githuba `https://raw.githubusercontent.com/vision-agh/poc_sw/master/02_Point/lut.py` (można użyć znanej biblioteki request), a następnie zaimportować je poleceniem `import lut`.\n",
        "Od tego momentu można się do nich odwoływać w następujący sposób: `lut.log` itd."
      ]
    },
    {
      "cell_type": "code",
      "execution_count": null,
      "metadata": {
        "id": "LlM06CPHxpia"
      },
      "outputs": [],
      "source": [
        "url = 'https://raw.githubusercontent.com/vision-agh/poc_sw/master/02_Point/'\n",
        "fileName = 'lut.py'\n",
        "if not os.path.exists(fileName) :\n",
        "    r = requests.get(url + fileName, allow_redirects=True)\n",
        "    open(fileName, 'wb').write(r.content)"
      ]
    },
    {
      "cell_type": "markdown",
      "metadata": {
        "id": "IIlox0ZZxpia"
      },
      "source": [
        "Wyświetl przykładowe przekodowanie wykorzystując funkcję `plt.plot(lut.kwadratowa)`."
      ]
    },
    {
      "cell_type": "code",
      "execution_count": null,
      "metadata": {
        "id": "YR3cJ1ZExpib"
      },
      "outputs": [],
      "source": [
        "import lut\n",
        "\n",
        "plt.plot(lut.kwadratowa)"
      ]
    },
    {
      "cell_type": "markdown",
      "metadata": {
        "id": "9fU-_PM2xpih"
      },
      "source": [
        "Wybierz jeden z obrazów: _lena.bmp_ lub _jet.bmp_ (w razie potrzeby pobierz go z githuba):\n",
        "- https://raw.githubusercontent.com/vision-agh/poc_sw/master/02_Point/lena.bmp\n",
        "- https://raw.githubusercontent.com/vision-agh/poc_sw/master/02_Point/jet.bmp\n",
        "\n",
        "Wczytaj go i wyświetl."
      ]
    },
    {
      "cell_type": "code",
      "execution_count": null,
      "metadata": {
        "id": "HXgvfWJDxpih"
      },
      "outputs": [],
      "source": [
        "fileNameLena = 'lena.bmp'\n",
        "if not os.path.exists(fileNameLena) :\n",
        "    r = requests.get(url + fileNameLena, allow_redirects=True)\n",
        "    open(fileNameLena, 'wb').write(r.content)\n",
        "\n",
        "fileNameJet = 'jet.bmp'\n",
        "if not os.path.exists(fileNameJet) :\n",
        "    r = requests.get(url + fileNameJet, allow_redirects=True)\n",
        "    open(fileNameJet, 'wb').write(r.content)\n",
        "\n",
        "imgLena = cv2.imread(fileNameLena)\n",
        "\n",
        "plt.imshow(imgLena)\n",
        "plt.xticks([])\n",
        "plt.yticks([])\n",
        "plt.show()"
      ]
    },
    {
      "cell_type": "markdown",
      "metadata": {
        "id": "7ZiUfo-Zxpii"
      },
      "source": [
        "Na wybranym obrazie wykonaj operację LUT.\n",
        "Służy do tego funkcja `cv2.LUT` przyjmująca dwa argumenty: obraz oraz tablicę przekodowania.\n",
        "Wybierz dowolną z zaimportowanych tablic i wyświetl wynikowy obraz."
      ]
    },
    {
      "cell_type": "code",
      "execution_count": null,
      "metadata": {
        "id": "qst8Ghz8xpii"
      },
      "outputs": [],
      "source": [
        "imgLenaSquare = cv2.LUT(imgLena, lut.kwadratowa)\n",
        "\n",
        "plt.imshow(imgLenaSquare)\n",
        "plt.xticks([])\n",
        "plt.yticks([])\n",
        "plt.show()"
      ]
    },
    {
      "cell_type": "markdown",
      "metadata": {
        "id": "F3ll_nG4xpii"
      },
      "source": [
        "Aby lepiej zobaczyć w jaki sposób działają różne przekodowania LUT, skonstruujemy funkcję, która jako argumenty pobierać będzie obrazek oryginalny oraz tablicę przekodowania, a następnie na wspólnym rysunku będzie wyświetlać: funkcję, obraz wejściowy oraz wynik przekodowania.\n",
        "\n",
        "Przypomnienie składni tworzenia funkcji w pythonie:\n",
        "```{python}\n",
        "  def nazwa_funkcji(para, metry):\n",
        "  \t# cialo funkcji\n",
        "```"
      ]
    },
    {
      "cell_type": "markdown",
      "metadata": {
        "id": "ghrxyT6Xxpij"
      },
      "source": [
        "  - Stwórz nową funkcję i nazwij ją LUT.\n",
        "  - Funkcja powinna przyjmować dwa parametry: obraz oraz tablicę przekodowania.\n",
        "  - W ciele funkcji wykonaj przekodowanie LUT, podobnie jak wcześniej w przykładzie.\n",
        "  - Funkcja powinna wyświetlić wykres składający się z 3 umieszczonych obok siebie pól: wykres przekodowania, obraz oryginalny oraz obraz przekształcony.\n",
        "    Każdy z wykresów powinien być podpisany.\n",
        "    _(W razie problemów można przypomnieć sobie te zagadnienia z laboratorium wprowadzającego)_\n",
        "  - Jeśli wykres przekodowania jest zbyt rozciągnięty, można go wyrównać, np. `ax2.set_aspect('equal')`."
      ]
    },
    {
      "cell_type": "code",
      "execution_count": null,
      "metadata": {
        "id": "a4e4FiO4xpij"
      },
      "outputs": [],
      "source": [
        "def LUT(img, array):\n",
        "    imgAfterLut = cv2.LUT(img, array)\n",
        "    f, (ax1, ax2, ax3) = plt.subplots(1, 3, figsize=(20, 15))\n",
        "\n",
        "    ax1.set_title(\"Wykres przekodowania\")\n",
        "    ax2.set_title(\"Obraz oryginalny\")\n",
        "    ax3.set_title(\"Obraz przekształcony\")\n",
        "\n",
        "    ax1.plot(array)\n",
        "    ax2.imshow(img)\n",
        "    ax3.imshow(imgAfterLut)\n",
        "\n",
        "    ax1.set_aspect(\"equal\")\n",
        "\n",
        "    plt.show()"
      ]
    },
    {
      "cell_type": "markdown",
      "metadata": {
        "id": "7RRUhOokxpik"
      },
      "source": [
        "Wywołaj przygotowaną funkcję dla każdego z przekształceń.\n",
        "W wyniku powinno powstać 7 wykresów."
      ]
    },
    {
      "cell_type": "code",
      "execution_count": null,
      "metadata": {
        "id": "dpdmn7sxxpil"
      },
      "outputs": [],
      "source": [
        "LUT(imgLena, lut.kwadratowa)"
      ]
    },
    {
      "cell_type": "code",
      "source": [
        "LUT(imgLena, lut.log)"
      ],
      "metadata": {
        "id": "fX5MW1uip8D-"
      },
      "execution_count": null,
      "outputs": []
    },
    {
      "cell_type": "code",
      "source": [
        "LUT(imgLena, lut.odwlog)"
      ],
      "metadata": {
        "id": "er_a9vidqAz4"
      },
      "execution_count": null,
      "outputs": []
    },
    {
      "cell_type": "code",
      "source": [
        "LUT(imgLena, lut.odwrotna)"
      ],
      "metadata": {
        "id": "wkLAp9JvqEcd"
      },
      "execution_count": null,
      "outputs": []
    },
    {
      "cell_type": "code",
      "source": [
        "LUT(imgLena, lut.pierwiastkowa)"
      ],
      "metadata": {
        "id": "gQ46IJaUqHNZ"
      },
      "execution_count": null,
      "outputs": []
    },
    {
      "cell_type": "code",
      "source": [
        "LUT(imgLena, lut.pila)"
      ],
      "metadata": {
        "id": "A8g_HRD2qJtL"
      },
      "execution_count": null,
      "outputs": []
    },
    {
      "cell_type": "code",
      "source": [
        "LUT(imgLena, lut.wykladnicza)"
      ],
      "metadata": {
        "id": "lIiHi4eLqNSD"
      },
      "execution_count": null,
      "outputs": []
    },
    {
      "cell_type": "markdown",
      "metadata": {
        "id": "psRy6lXjxpil"
      },
      "source": [
        "## Operacja arytmetyczne\n",
        "\n",
        "### Dodawanie\n",
        "\n",
        "Wczytaj dwa obrazy _lena.bmp_ i _jet.bmp_ i wyświetl je."
      ]
    },
    {
      "cell_type": "code",
      "execution_count": null,
      "metadata": {
        "id": "PXAEXXm1xpil"
      },
      "outputs": [],
      "source": [
        "imgLena = cv2.imread(fileNameLena)\n",
        "imgJet = cv2.imread(fileNameJet)"
      ]
    },
    {
      "cell_type": "code",
      "source": [
        "plt.imshow(imgLena)\n",
        "plt.xticks([])\n",
        "plt.yticks([])\n",
        "plt.show()"
      ],
      "metadata": {
        "id": "U-Ovo9eTqgNl"
      },
      "execution_count": null,
      "outputs": []
    },
    {
      "cell_type": "code",
      "source": [
        "plt.imshow(imgJet)\n",
        "plt.xticks([])\n",
        "plt.yticks([])\n",
        "plt.show()"
      ],
      "metadata": {
        "id": "MhObl99zqlJ8"
      },
      "execution_count": null,
      "outputs": []
    },
    {
      "cell_type": "markdown",
      "metadata": {
        "id": "NpBHUdysxpil"
      },
      "source": [
        "Dodaj obrazy _lena_ i _jet_, wykorzystaj funkcję `cv2.add`.\n",
        "Uzyskany wynik wyświetl."
      ]
    },
    {
      "cell_type": "code",
      "execution_count": null,
      "metadata": {
        "id": "H1J6kwlAxpil"
      },
      "outputs": [],
      "source": [
        "imgSum = cv2.add(imgLena, imgJet)\n",
        "\n",
        "plt.imshow(imgSum)\n",
        "plt.xticks([])\n",
        "plt.yticks([])\n",
        "plt.show()"
      ]
    },
    {
      "cell_type": "markdown",
      "metadata": {
        "id": "Ru1Asgdzxpil"
      },
      "source": [
        "Czy wynik sumowania jest satysfakcjonujący?\n",
        "Co może niekorzystnie wpływać na rezultat operacji?\n",
        "Spróbuj wykonać dodawanie ponownie wykorzystując typ uint16 (`jet.astype('uint16')`) dla arguemntów dodawania.\n",
        "Wynikowy obraz należy przeskalować do zakresu 0-255, zamienić na typ uint8 i wyświetlić.\n",
        "**Uwaga: operacja ta jest użyteczna w przypadku, gdy dane do wyświetlenia wykraczają poza zakres 0-255, w przeciwnym przypadku jej wykorzystanie może zniekształcić wyniki.**"
      ]
    },
    {
      "cell_type": "code",
      "execution_count": null,
      "metadata": {
        "id": "_d-YYXhHxpim"
      },
      "outputs": [],
      "source": [
        "imgSum = cv2.add(imgLena.astype(\"uint16\"), imgJet.astype(\"uint16\"))\n",
        "imgSumScaled = imgSum / 2\n",
        "\n",
        "plt.imshow(imgSumScaled.astype(\"uint8\"))\n",
        "plt.xticks([])\n",
        "plt.yticks([])\n",
        "plt.show()"
      ]
    },
    {
      "cell_type": "markdown",
      "metadata": {
        "id": "efksr68txpim"
      },
      "source": [
        "### Kombinacja liniowa\n",
        "\n",
        "Do wykonywania operacji kombinacji liniowej służy funkcja `cv2.addWeighted`.\n",
        "Zapoznaj się z dokumentacją tej funkcji i przetestuj kilka kombinacji liniowych obrazów _lena_ i _jet_.\n",
        "Wyświetl wynik dowolnej z nich."
      ]
    },
    {
      "cell_type": "code",
      "execution_count": null,
      "metadata": {
        "id": "gBzwSBPbxpim"
      },
      "outputs": [],
      "source": [
        "imgWeighted1 = cv2.addWeighted(imgLena, 0.2, imgJet, 0.8, 0)\n",
        "imgWeighted2 = cv2.addWeighted(imgLena, 0.4, imgJet, 0.6, 0)\n",
        "imgWeighted3 = cv2.addWeighted(imgLena, 0.5, imgJet, 0.5, 0)\n",
        "imgWeighted4 = cv2.addWeighted(imgLena, 0.7, imgJet, 0.3, 0)"
      ]
    },
    {
      "cell_type": "code",
      "source": [
        "plt.imshow(imgWeighted1)\n",
        "plt.xticks([])\n",
        "plt.yticks([])\n",
        "plt.show()"
      ],
      "metadata": {
        "id": "flb6PZWWtihY"
      },
      "execution_count": null,
      "outputs": []
    },
    {
      "cell_type": "code",
      "source": [
        "plt.imshow(imgWeighted4)\n",
        "plt.xticks([])\n",
        "plt.yticks([])\n",
        "plt.show()"
      ],
      "metadata": {
        "id": "EkvhWdpAtqC5"
      },
      "execution_count": null,
      "outputs": []
    },
    {
      "cell_type": "markdown",
      "metadata": {
        "id": "nylvFTwAxpim"
      },
      "source": [
        "### Odejmowanie\n",
        "\n",
        "Wykorzystując funkcję `cv2.subtract` odejmij obrazy _lena_ i _jet_."
      ]
    },
    {
      "cell_type": "code",
      "execution_count": null,
      "metadata": {
        "id": "Zt9LMf3Fxpim"
      },
      "outputs": [],
      "source": [
        "imgSub = cv2.subtract(imgLena, imgJet)\n",
        "\n",
        "plt.imshow(imgSub)\n",
        "plt.xticks([])\n",
        "plt.yticks([])\n",
        "plt.show()"
      ]
    },
    {
      "cell_type": "markdown",
      "metadata": {
        "id": "483w1Ol4xpim"
      },
      "source": [
        "Czy wynik odejmowania jest satysfakcjonujący?\n",
        "Co może niekorzystnie wpływać na rezultat operacji?\n",
        "Często zamiast zwykłego odejmowania wykorzystuje się operację wartość bezwzględna z różnicy (pozwala to między innymi uniknąć pokazanych powyżej problemów).\n",
        "Zamień typ argumentów _lena_ i _jet_ z uint8 na **int16**, odejmij je od siebie, a następnie wykorzystując funkcję `np.abs` wykonaj operację wartość bezwzględna z różnicy.\n",
        "Wyświetl ten obraz.\n",
        "Zastanów się, dlaczego ta zmiana poprawia wynik odejmowania?"
      ]
    },
    {
      "cell_type": "code",
      "execution_count": null,
      "metadata": {
        "id": "V0ZbuqG5xpim"
      },
      "outputs": [],
      "source": [
        "imgSub = cv2.subtract(imgLena.astype(\"int16\"), imgJet.astype(\"int16\"))\n",
        "imgSubScaled = np.abs(imgSub)\n",
        "\n",
        "plt.imshow(imgSubScaled.astype(\"uint8\"))\n",
        "plt.xticks([])\n",
        "plt.yticks([])\n",
        "plt.show()"
      ]
    },
    {
      "cell_type": "markdown",
      "metadata": {
        "id": "wBEu724uxpim"
      },
      "source": [
        "### Mnożenie\n",
        "\n",
        "Mnożenie dwóch obrazów pozwala wykonać funkcja `cv2.multiply`.\n",
        "Wykonaj mnożenie obrazów _lena_ i _jet_.\n",
        "Czy wynik takiej operacji zawiera jakąś istotną informację?\n",
        "Dlaczego?\n",
        "\n",
        "Przed wykonaniem mnożenia zamień typ arguemntów na **float64**. Wynik mnożenia przeskaluj do zakresu 0-255, a następnie zrzutuj na typ **uint8**."
      ]
    },
    {
      "cell_type": "code",
      "execution_count": null,
      "metadata": {
        "id": "4cnM_5wrxpin"
      },
      "outputs": [],
      "source": [
        "imgMult = cv2.multiply(imgLena.astype(\"float64\"), imgJet.astype(\"float64\"))\n",
        "imgMultScaled = (imgMult * 255) / np.max(imgMult)\n",
        "\n",
        "plt.imshow(imgMultScaled.astype(\"uint8\"))\n",
        "plt.xticks([])\n",
        "plt.yticks([])\n",
        "plt.show()"
      ]
    },
    {
      "cell_type": "markdown",
      "metadata": {
        "id": "LQLxZNjGxpin"
      },
      "source": [
        "Mnożenie częściej wykorzystuje się jako:\n",
        "  + mnożenie przez stałą $-$ co powoduje ogólne rozjaśnienie albo ściemnienie obrazu,\n",
        "  + mnożenie przez maskę $-$ czyli obraz binarny."
      ]
    },
    {
      "cell_type": "markdown",
      "metadata": {
        "id": "Ek0IMzadxpin"
      },
      "source": [
        "Wczytaj maskę _kolo.bmp_ (https://raw.githubusercontent.com/vision-agh/poc_sw/master/02_Point/kolo.bmp).\n",
        "Przemnóż wybrany obraz przez maskę i wyświetl wynik.\n",
        "Mnożenie przez maskę można zrealizować za pomocą funkcji `cv2.multiply`, ale maskę należy należy najpierw przekształcić z zakresu 0-255 do 0-1, na przykład `(maska).astype('bool').astype('uint8')`."
      ]
    },
    {
      "cell_type": "code",
      "execution_count": null,
      "metadata": {
        "id": "-toBMqlnxpin"
      },
      "outputs": [],
      "source": [
        "fileName = 'kolo.bmp'\n",
        "if not os.path.exists(fileName) :\n",
        "    r = requests.get(url + fileName, allow_redirects=True)\n",
        "    open(fileName, 'wb').write(r.content)\n",
        "\n",
        "circle = cv2.imread(fileName)"
      ]
    },
    {
      "cell_type": "code",
      "source": [
        "mask = circle.astype(\"bool\").astype(\"uint8\")\n",
        "\n",
        "imgMaskMult = cv2.multiply(imgJet, mask)\n",
        "\n",
        "plt.imshow(imgMaskMult)\n",
        "plt.xticks([])\n",
        "plt.yticks([])\n",
        "plt.show()"
      ],
      "metadata": {
        "id": "plmvFVKhvin0"
      },
      "execution_count": null,
      "outputs": []
    },
    {
      "cell_type": "markdown",
      "metadata": {
        "id": "g2rEh7IFxpin"
      },
      "source": [
        "### Negatyw\n",
        "\n",
        "Negatyw obrazu uzyskuje się za pomocą funkcji `cv2.bitwise_not(img)`\n",
        "Negatyw obrazu można również uzyskać wykorzystując przekodowanie LUT.\n",
        "Można w tym celu posłużyć się przygotowaną wcześniej tablicą `lut.odwrotna`.\n",
        "Przetestuj działanie tych funkcji i wykonaj negatyw obrazu _lena_ dowolnym sposobem."
      ]
    },
    {
      "cell_type": "code",
      "execution_count": null,
      "metadata": {
        "id": "xRtuf633xpio"
      },
      "outputs": [],
      "source": [
        "imgLenaNegLut = cv2.LUT(imgLena, lut.odwrotna)\n",
        "imgLenaNegCv2 = cv2.bitwise_not(imgLena)"
      ]
    },
    {
      "cell_type": "code",
      "source": [
        "plt.imshow(imgLenaNegLut)\n",
        "plt.xticks([])\n",
        "plt.yticks([])\n",
        "plt.show()"
      ],
      "metadata": {
        "id": "y8uMRNPFwI8T"
      },
      "execution_count": null,
      "outputs": []
    },
    {
      "cell_type": "code",
      "source": [
        "plt.imshow(imgLenaNegCv2)\n",
        "plt.xticks([])\n",
        "plt.yticks([])\n",
        "plt.show()"
      ],
      "metadata": {
        "id": "p9IYuzgawM1M"
      },
      "execution_count": null,
      "outputs": []
    },
    {
      "cell_type": "markdown",
      "metadata": {
        "id": "8Q8AVaqVxpio"
      },
      "source": [
        "## Operacje logiczne\n",
        "\n",
        "Na poszczególnych punktach obrazu (najczęściej binarnego $-$ czyli składającego się z dwóch kolorów: czarnego i białego) można wykonywać operacje logiczne: NOT, AND, OR, XOR itp.\n",
        "Wczytaj dwa obrazy: _kolo.bmp_ i _kwadrat.bmp_ (https://raw.githubusercontent.com/vision-agh/poc_sw/master/02_Point/kwadrat.bmp), następnie wyświetl je."
      ]
    },
    {
      "cell_type": "code",
      "execution_count": null,
      "metadata": {
        "id": "n7BwkzwMxpio"
      },
      "outputs": [],
      "source": [
        "fileName = 'kwadrat.bmp'\n",
        "if not os.path.exists(fileName) :\n",
        "    r = requests.get(url + fileName, allow_redirects=True)\n",
        "    open(fileName, 'wb').write(r.content)\n",
        "\n",
        "square = cv2.imread(fileName)"
      ]
    },
    {
      "cell_type": "markdown",
      "metadata": {
        "id": "au1Z34p_xpio"
      },
      "source": [
        "Na wczytanych obrazach wykonaj wybrane operacje logiczne: NOT (operator `~`), AND (`&`), OR (`|`), XOR (`^`).\n",
        "Operator `~` jest jednoargumentowy, wszystkie pozostałe są dwuargumentowe.\n",
        "Alternatywnym sposobem jest wykorzystanie funkcji z biblioteki opencv: `cv2.bitwise_not`, `cv2.bitwise_and`, `cv2.bitwise_or`, `cv2.bitwise_xor`.\n",
        "Wyświetl rezultaty."
      ]
    },
    {
      "cell_type": "code",
      "source": [
        "circleNot = cv2.bitwise_not(circle)\n",
        "\n",
        "plt.imshow(circleNot)\n",
        "plt.xticks([])\n",
        "plt.yticks([])\n",
        "plt.show()"
      ],
      "metadata": {
        "id": "BsEJvWItwnNA"
      },
      "execution_count": null,
      "outputs": []
    },
    {
      "cell_type": "code",
      "source": [
        "squareNot = cv2.bitwise_not(square)\n",
        "\n",
        "plt.imshow(squareNot)\n",
        "plt.xticks([])\n",
        "plt.yticks([])\n",
        "plt.show()"
      ],
      "metadata": {
        "id": "6talYg4Uw0Br"
      },
      "execution_count": null,
      "outputs": []
    },
    {
      "cell_type": "code",
      "source": [
        "result = cv2.bitwise_and(circle, square)\n",
        "\n",
        "plt.imshow(result)\n",
        "plt.xticks([])\n",
        "plt.yticks([])\n",
        "plt.show()"
      ],
      "metadata": {
        "id": "5fULBAIrw7mV"
      },
      "execution_count": null,
      "outputs": []
    },
    {
      "cell_type": "code",
      "source": [
        "result = cv2.bitwise_or(circle, square)\n",
        "\n",
        "plt.imshow(result)\n",
        "plt.xticks([])\n",
        "plt.yticks([])\n",
        "plt.show()"
      ],
      "metadata": {
        "id": "F_Rtx_ZtxGcy"
      },
      "execution_count": null,
      "outputs": []
    },
    {
      "cell_type": "code",
      "source": [
        "result = cv2.bitwise_xor(circle, square)\n",
        "\n",
        "plt.imshow(result)\n",
        "plt.xticks([])\n",
        "plt.yticks([])\n",
        "plt.show()"
      ],
      "metadata": {
        "id": "1ukPYyUExJo0"
      },
      "execution_count": null,
      "outputs": []
    }
  ],
  "metadata": {
    "kernelspec": {
      "display_name": "Python 3",
      "language": "python",
      "name": "python3"
    },
    "language_info": {
      "codemirror_mode": {
        "name": "ipython",
        "version": 3
      },
      "file_extension": ".py",
      "mimetype": "text/x-python",
      "name": "python",
      "nbconvert_exporter": "python",
      "pygments_lexer": "ipython3",
      "version": "3.8.5"
    },
    "colab": {
      "provenance": []
    }
  },
  "nbformat": 4,
  "nbformat_minor": 0
}